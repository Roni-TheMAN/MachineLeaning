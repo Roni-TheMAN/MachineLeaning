{
 "cells": [
  {
   "cell_type": "code",
   "id": "initial_id",
   "metadata": {
    "collapsed": true,
    "jupyter": {
     "is_executing": true
    },
    "ExecuteTime": {
     "start_time": "2025-01-30T00:45:25.678465Z"
    }
   },
   "source": [
    "import torch\n",
    "from torch import nn, optim\n",
    "from torch.utils.data import DataLoader\n",
    "\n",
    "import torchvision\n",
    "from torchvision import datasets, transforms\n",
    "from torchvision.transforms import v2\n",
    "from torchvision.transforms.v2 import ToTensor\n",
    "\n",
    "\n",
    "# import matplotlib\n",
    "# import matplotlib.pyplot as plt\n",
    "# matplotlib.use('agg')  # Set the backend to 'agg'\n",
    "\n",
    "\n",
    "print(torch.__version__)\n",
    "print(torchvision.__version__)"
   ],
   "outputs": [],
   "execution_count": null
  },
  {
   "metadata": {},
   "cell_type": "code",
   "source": "device = torch.device(\"cuda\" if torch.cuda.is_available() else \"cpu\")",
   "id": "695460190a7119a6",
   "outputs": [],
   "execution_count": null
  },
  {
   "metadata": {},
   "cell_type": "code",
   "source": [
    "\n",
    "train_fashionMNIST_data = torchvision.datasets.FashionMNIST(root=\"data\",\n",
    "                                                            download=True,\n",
    "                                                            transform=v2.Compose([v2.ToImage(), v2.ToDtype(torch.float32, scale=True)]),\n",
    "                                                            train=True,\n",
    "                                                            target_transform=None)\n",
    "\n",
    "test_fashionMNIST_data = torchvision.datasets.FashionMNIST(root=\"data\",\n",
    "                                                           download=True,\n",
    "                                                           transform=v2.Compose([v2.ToImage(), v2.ToDtype(torch.float32, scale=True)]),\n",
    "                                                           train=False,\n",
    "                                                           target_transform=None)\n"
   ],
   "id": "fbf3794f5ddb92e8",
   "outputs": [],
   "execution_count": null
  },
  {
   "metadata": {},
   "cell_type": "code",
   "source": [
    "image, label = train_fashionMNIST_data[0]\n",
    "\n",
    "plot = plt.imshow(image.squeeze(), cmap='gray')\n",
    "plt.show()\n",
    "#\n",
    "# plt.plot([1, 2, 3], [4, 5, 6])\n",
    "# plt.title(\"Test Plot\")\n",
    "# plt.show()\n"
   ],
   "id": "1e134cbf1e021401",
   "outputs": [],
   "execution_count": null
  },
  {
   "metadata": {},
   "cell_type": "code",
   "source": [
    "torch.manual_seed(42)\n",
    "fig = plt.figure(figsize=(9,9))\n",
    "rows, cols = 4,4\n",
    "for i in range(16):\n",
    "    random_idx = torch.randint(0, len(train_fashionMNIST_data), size=[1]).item()\n",
    "    image, label = train_fashionMNIST_data[random_idx]\n",
    "\n",
    "    plt.imshow(image.squeeze(), cmap='gray')\n",
    "    plt.title(label)\n",
    "    plt.axis('off')"
   ],
   "id": "75882d900d9132de",
   "outputs": [],
   "execution_count": null
  },
  {
   "metadata": {},
   "cell_type": "code",
   "source": "train_fashionMNIST_data",
   "id": "b662763b57a3f1e1",
   "outputs": [],
   "execution_count": null
  },
  {
   "metadata": {},
   "cell_type": "markdown",
   "source": [
    "# 2 Prepare DataLoader\n",
    "\n",
    "From torch Datasets but we want to have in python itterable.\n",
    "\n",
    "We need to break Batch into mini batches."
   ],
   "id": "aa99a34dad6cd523"
  },
  {
   "metadata": {},
   "cell_type": "code",
   "source": [
    "train_dataloader = DataLoader(dataset=train_fashionMNIST_data,\n",
    "                             batch_size=32,\n",
    "                             shuffle=True)\n",
    "test_dataloader = DataLoader(dataset=test_fashionMNIST_data,\n",
    "                             batch_size=32,\n",
    "                             shuffle=False)\n"
   ],
   "id": "d84993f137d9a2a3",
   "outputs": [],
   "execution_count": null
  },
  {
   "metadata": {},
   "cell_type": "code",
   "source": "train_dataloader",
   "id": "d0d2a4f030a7564c",
   "outputs": [],
   "execution_count": null
  },
  {
   "metadata": {},
   "cell_type": "code",
   "source": [
    "train_features_batch, train_labels_batch = next(iter(train_dataloader))\n",
    "\n",
    "train_features_batch.shape, train_labels_batch.shape"
   ],
   "id": "3bf161cb69968b32",
   "outputs": [],
   "execution_count": null
  },
  {
   "metadata": {},
   "cell_type": "code",
   "source": [
    "torch.manual_seed(42)\n",
    "random_idx = torch.randint(0, len(train_features_batch), size=[1]).item()\n",
    "img, label = train_features_batch[random_idx], train_labels_batch[random_idx]\n",
    "plt.imshow(img.squeeze(), cmap='gray')\n",
    "plt.axis('off')\n",
    "plt.show()\n"
   ],
   "id": "442d9e5e8866864a",
   "outputs": [],
   "execution_count": null
  },
  {
   "metadata": {},
   "cell_type": "code",
   "source": "",
   "id": "35aec42c386b2dbe",
   "outputs": [],
   "execution_count": null
  },
  {
   "metadata": {},
   "cell_type": "code",
   "source": "",
   "id": "d506a614b982bde8",
   "outputs": [],
   "execution_count": null
  }
 ],
 "metadata": {
  "kernelspec": {
   "display_name": "Python [conda env:base] *",
   "language": "python",
   "name": "conda-base-py"
  },
  "language_info": {
   "codemirror_mode": {
    "name": "ipython",
    "version": 2
   },
   "file_extension": ".py",
   "mimetype": "text/x-python",
   "name": "python",
   "nbconvert_exporter": "python",
   "pygments_lexer": "ipython2",
   "version": "2.7.6"
  }
 },
 "nbformat": 4,
 "nbformat_minor": 5
}
