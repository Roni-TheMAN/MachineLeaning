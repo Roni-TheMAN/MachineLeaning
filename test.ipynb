{
 "cells": [
  {
   "metadata": {
    "collapsed": true
   },
   "cell_type": "code",
   "outputs": [],
   "execution_count": null,
   "source": [
    "# import matplotlib\n",
    "# import matplotlib.pyplot as plt\n",
    "# plt.plot([1, 2, 3], [4, 5, 6])\n",
    "# plt.title(\"Test Plot\")\n",
    "# plt.show()"
   ],
   "id": "initial_id"
  },
  {
   "metadata": {
    "ExecuteTime": {
     "end_time": "2025-01-30T20:48:32.654577Z",
     "start_time": "2025-01-30T20:48:32.649232Z"
    }
   },
   "cell_type": "code",
   "source": "print(\"torch.__version__\")",
   "id": "edffb14492c2a0cd",
   "outputs": [
    {
     "name": "stdout",
     "output_type": "stream",
     "text": [
      "torch.__version__\n"
     ]
    }
   ],
   "execution_count": 1
  }
 ],
 "metadata": {
  "kernelspec": {
   "display_name": "Python [conda env:base] *",
   "language": "python",
   "name": "conda-base-py"
  },
  "language_info": {
   "codemirror_mode": {
    "name": "ipython",
    "version": 2
   },
   "file_extension": ".py",
   "mimetype": "text/x-python",
   "name": "python",
   "nbconvert_exporter": "python",
   "pygments_lexer": "ipython2",
   "version": "2.7.6"
  }
 },
 "nbformat": 4,
 "nbformat_minor": 5
}
